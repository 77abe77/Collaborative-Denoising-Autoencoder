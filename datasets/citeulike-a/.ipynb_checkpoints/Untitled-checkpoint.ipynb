{
 "cells": [
  {
   "cell_type": "code",
   "execution_count": 4,
   "metadata": {
    "collapsed": false
   },
   "outputs": [],
   "source": [
    "import tensorflow as tf\n",
    "import random\n",
    "import numpy as np\n",
    "path = 'users.dat'\n",
    "\n",
    "input_vect_size = 0\n",
    "with open(path, 'rb') as input_file:\n",
    "    for line in input_file:\n",
    "        line = line.strip()\n",
    "        line = line.split()[1:]\n",
    "        for item in line:\n",
    "            if int(item) > input_vect_size:\n",
    "                input_vect_size = int(item)\n",
    "            \n",
    "\n",
    "with open(path, 'rb') as input_file:\n",
    "    i = 0\n",
    "    for line in input_file:\n",
    "        if i > 1:\n",
    "            break\n",
    "        line = line.strip()\n",
    "        line = line.split()\n",
    "        num_saved_items = int(line[0])\n",
    "        indices = []\n",
    "        for i in range(1, len(line)):\n",
    "            indices.append([0, int(line[i]) - 1])\n",
    "        values = [1] * num_saved_items\n",
    "        shape = [1, input_vect_size]\n",
    "        sv = tf.SparseTensor(indices=indices, values=values, shape=shape)\n",
    "\n",
    "# Need to get the sampled on from test set"
   ]
  },
  {
   "cell_type": "code",
   "execution_count": 13,
   "metadata": {
    "collapsed": false
   },
   "outputs": [],
   "source": [
    "import numpy as np\n",
    "sess = tf.Session()\n",
    "dv = tf.sparse_tensor_to_dense(sv)\n",
    "res = sess.run(dv)\n"
   ]
  },
  {
   "cell_type": "code",
   "execution_count": 17,
   "metadata": {
    "collapsed": false
   },
   "outputs": [],
   "source": [
    "a = np.where(res > 0)[1]"
   ]
  },
  {
   "cell_type": "code",
   "execution_count": 74,
   "metadata": {
    "collapsed": true
   },
   "outputs": [],
   "source": [
    "def make_sparse_vect_from_raw_set(raw_set, size):\n",
    "    indices = [[0, i - 1] for i in raw_set]\n",
    "    values = [1] * len(indices)\n",
    "    shape = [1, size]\n",
    "    #return [indices, values, shape]\n",
    "    return tf.SparseTensor(indices=indices, values=values, shape=shape)"
   ]
  },
  {
   "cell_type": "code",
   "execution_count": 55,
   "metadata": {
    "collapsed": true
   },
   "outputs": [],
   "source": [
    "def get_validation_set(full_dataset_one_d):\n",
    "    '''Input: 1-D vector of just the item numbers that are included in\n",
    "        in the full dataset\n",
    "       Output: 2-D with the first dimension holding the test set that\n",
    "               omits 20% of the data, and the second dimension including\n",
    "               the full set\n",
    "    '''\n",
    "    #TODO - Might need to check that validation set statisfies a min length\n",
    "    full_set = full_dataset_one_d.copy()\n",
    "    ind = np.random.randint(1, len(full_dataset_one_d), len(full_dataset_one_d))\n",
    "    val_set_ind = np.where(ind <= 0.8 * len(full_dataset_one_d))\n",
    "    val_set = full_dataset_one_d[val_set_ind]\n",
    "    \n",
    "    return [val_set, full_set]"
   ]
  },
  {
   "cell_type": "code",
   "execution_count": null,
   "metadata": {
    "collapsed": false
   },
   "outputs": [],
   "source": []
  },
  {
   "cell_type": "code",
   "execution_count": 59,
   "metadata": {
    "collapsed": false
   },
   "outputs": [],
   "source": [
    "b, c = get_validation_set(a)"
   ]
  },
  {
   "cell_type": "code",
   "execution_count": 60,
   "metadata": {
    "collapsed": false
   },
   "outputs": [
    {
     "data": {
      "text/plain": [
       "array([ 1630,  2316,  2525,  2845,  2930,  3170,  3296,  3331,  3403,\n",
       "        3594,  3769,  3949,  4661,  4870,  4888,  5113,  5323,  5324,\n",
       "        5613,  5990,  6102,  6873,  6967,  7105,  7800,  7866,  8902,\n",
       "        9906, 10007, 10203, 10287, 10507, 10587, 11008, 11104, 11225,\n",
       "       11852, 11918, 12683, 12715, 12801, 12803, 12804, 12830, 12915,\n",
       "       13171, 13362, 13922, 13923, 14661, 14675, 14850, 15025, 15164,\n",
       "       15190, 15281, 15299, 15335, 15832, 15893, 16162, 16423])"
      ]
     },
     "execution_count": 60,
     "metadata": {},
     "output_type": "execute_result"
    }
   ],
   "source": [
    "b"
   ]
  },
  {
   "cell_type": "code",
   "execution_count": 61,
   "metadata": {
    "collapsed": false
   },
   "outputs": [
    {
     "name": "stdout",
     "output_type": "stream",
     "text": [
      "0.885714285714\n"
     ]
    }
   ],
   "source": [
    "len_b = b.shape[0]\n",
    "len_a = a.shape[0]\n",
    "print float(len_b) / len_a"
   ]
  },
  {
   "cell_type": "code",
   "execution_count": 75,
   "metadata": {
    "collapsed": true
   },
   "outputs": [],
   "source": [
    "out = make_sparse_vect_from_raw_set(b,input_vect_size)"
   ]
  },
  {
   "cell_type": "code",
   "execution_count": 76,
   "metadata": {
    "collapsed": false
   },
   "outputs": [
    {
     "data": {
      "text/plain": [
       "<tensorflow.python.framework.ops.SparseTensor at 0x7f55c47e4550>"
      ]
     },
     "execution_count": 76,
     "metadata": {},
     "output_type": "execute_result"
    }
   ],
   "source": [
    "out"
   ]
  },
  {
   "cell_type": "code",
   "execution_count": null,
   "metadata": {
    "collapsed": true
   },
   "outputs": [],
   "source": []
  }
 ],
 "metadata": {
  "kernelspec": {
   "display_name": "Python 2",
   "language": "python",
   "name": "python2"
  },
  "language_info": {
   "codemirror_mode": {
    "name": "ipython",
    "version": 2
   },
   "file_extension": ".py",
   "mimetype": "text/x-python",
   "name": "python",
   "nbconvert_exporter": "python",
   "pygments_lexer": "ipython2",
   "version": "2.7.6"
  }
 },
 "nbformat": 4,
 "nbformat_minor": 1
}
