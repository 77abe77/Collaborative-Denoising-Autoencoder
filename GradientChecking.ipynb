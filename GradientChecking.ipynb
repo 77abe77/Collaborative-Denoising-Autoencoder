{
 "cells": [
  {
   "cell_type": "code",
   "execution_count": 1,
   "metadata": {
    "collapsed": false
   },
   "outputs": [
    {
     "name": "stdout",
     "output_type": "stream",
     "text": [
      "Importing Data ...\n",
      "Done.\n"
     ]
    }
   ],
   "source": [
    "from models.CDAE import CDAE\n",
    "from datasets.CiteYouLikeA import CiteYouLikeA\n",
    "\n",
    "model = CDAE(CiteYouLikeA, sparse=False)"
   ]
  },
  {
   "cell_type": "code",
   "execution_count": 2,
   "metadata": {
    "collapsed": true
   },
   "outputs": [],
   "source": [
    "from models import utils\n",
    "import tensorflow as tf\n",
    "\n",
    "user_u = tf.placeholder(tf.int32, shape=[])\n",
    "\n",
    "def _create_variables(n_hidden=50):\n",
    "    global user_u\n",
    "    weights = dict()\n",
    "    weights['W'] = tf.Variable(utils.xavier_init(model.n_items, n_hidden))\n",
    "    weights['W_prime'] = tf.Variable(utils.xavier_init(model.n_items, n_hidden))\n",
    "    weights['b'] = tf.Variable(tf.zeros([1, n_hidden], dtype=tf.float32))\n",
    "    weights['b_prime'] = tf.Variable(tf.zeros([1, model.n_items], dtype=tf.float32))\n",
    "    weights['V'] = tf.Variable(tf.zeros([model.n_users, n_hidden]))\n",
    "    weights['V_index'] = tf.nn.embedding_lookup(weights['V'], user_u)\n",
    "    return weights"
   ]
  },
  {
   "cell_type": "code",
   "execution_count": 3,
   "metadata": {
    "collapsed": false
   },
   "outputs": [],
   "source": [
    "dropout_prob = tf.constant(0.2, dtype=tf.float32)\n",
    "weight = _create_variables()\n",
    "\n",
    "\n"
   ]
  },
  {
   "cell_type": "code",
   "execution_count": 10,
   "metadata": {
    "collapsed": false
   },
   "outputs": [],
   "source": [
    "aug_set_indices = tf.placeholder(tf.int32, [None])\n",
    "#n_hidden = 3\n",
    "\n",
    "indices = [[i, j] for i in sess.run(aug_set_indices, feed_dict={aug_set_indices: [0, 2, 4]}) for j in xrange(n_hidden)]\n",
    "\n",
    "#values = tf.reshape(grad, [-1])\n",
    "\n",
    "#shape = [model.n_items, ]\n",
    "#indices = [[]]\n",
    "#tf.SparseTensor()\n"
   ]
  },
  {
   "cell_type": "code",
   "execution_count": 6,
   "metadata": {
    "collapsed": false
   },
   "outputs": [],
   "source": [
    "sess = tf.Session()\n",
    "a = tf.constant([[1,2,34], [2,3,4], [9,6,2]])\n",
    "b = sess.run(tf.reshape(a, [-1]))"
   ]
  },
  {
   "cell_type": "code",
   "execution_count": null,
   "metadata": {
    "collapsed": false,
    "scrolled": true
   },
   "outputs": [],
   "source": [
    "# METHOD 1 - NOT MEM\n",
    "transfer_fn = tf.sigmoid                                                   \n",
    "output_fn = tf.identity                                                        \n",
    "n_hidden = 50                                                                    \n",
    "\n",
    "# AdaGrad Parameters                                                                                                                   \n",
    "ada_beta = 1.0                                                                   \n",
    "ada_learning_rate = 0.01                                       \n",
    "optimizer = tf.train.AdagradOptimizer(ada_learning_rate, ada_beta)                                                                    \n",
    "#optimizer = tf.train.GradientDescentOptimizer(ada_learning_rate)                                                                       \n",
    "\n",
    "# Regularization Parameter                                                                                                             \n",
    "reg_lambda = 1.0                                                             \n",
    "\n",
    "\n",
    "\n",
    "y = tf.placeholder(tf.float32, [None, model.n_items]) \n",
    "z_index = tf.placeholder(tf.int32, [])\n",
    "selected_indices = tf.placeholder(tf.int32, [None])\n",
    "grad_indices = tf.placeholder(tf.int64, [None, None])\n",
    "\n",
    "z = tf.pack([transfer_fn(tf.add_n( [tf.matmul(y, weight['W']),                                                         \n",
    "                                          tf.reshape(weight['V'][i], [1, n_hidden]),                                              \n",
    "                                          weight['b']]                                                 \n",
    "                                        )) for i in xrange(model.n_users) ])                                                     \n",
    "y_hat = output_fn(tf.add(tf.matmul(tf.gather(z, z_index), tf.transpose(weight['W_prime'])),                                    \n",
    "                                        weight['b_prime'])                                         \n",
    "                                )\n",
    "\n",
    "loss = tf.nn.l2_loss(tf.sub(y, y_hat))\n",
    "\n",
    "dLoss_d = optimizer.compute_gradients(loss, var_list=[weight['W_prime'], weight['b_prime'], weight['W'], weight['V'], weight['b']])                                    \n",
    "\n",
    "W_prime_loss_grads = tf.gather(dLoss_d[0][0], selected_indices)\n",
    "b_prime_loss_grads = tf.gather(tf.transpose(dLoss_d[1][0]), selected_indices)\n",
    "W_loss_grads = tf.gather(dLoss_d[2][0], selected_indices)\n",
    "V_loss_grads = tf.gather(dLoss_d[3][0], selected_indices)\n",
    "b_loss_grads = tf.gather(dLoss_d[4][0], selected_indices)                         \n",
    "\n",
    "W_prime = tf.gather(weight['W_prime'], selected_indices)\n",
    "b_prime = tf.gather(weight['b_prime'], selected_indices)\n",
    "W = tf.gather(weight['W'], selected_indices)\n",
    "V = tf.gather(weight['V'], selected_indices)\n",
    "b = tf.gather(weight['b'], selected_indices)\n",
    "\n",
    "#self.dLoss_d = lambda u, var: optimizer.compute_gradients(self.loss(u), var_list=[var])[0][0]\n",
    "dCost_dW_prime = tf.mul(1.0 / model.n_users, W_prime_loss_grads) - tf.mul(reg_lambda, W_prime)\n",
    "dCost_db_prime = tf.mul(1.0 / model.n_users, b_prime_loss_grads) - tf.mul(reg_lambda, b_prime)\n",
    "dCost_dW = tf.mul(1.0 / model.n_users, W_loss_grads) - tf.mul(reg_lambda, W)\n",
    "dCost_dV = tf.mul(1.0 / model.n_users, V_loss_grads) - tf.mul(reg_lambda, V)\n",
    "dCost_db = tf.mul(1.0 / model.n_users, b_loss_grads) - tf.mul(reg_lambda, b)\n",
    "\n",
    "#indices = [[i, j] for i in aug_set_indices for j in xrange(n_hidden)]\n",
    "\n",
    "\n",
    "W_shape = [model.n_items, n_hidden]\n",
    "V_shape = [model.n_users, n_hidden]\n",
    "b_shape = [1, n_hidden]\n",
    "b_prime_shape = [1, model.n_items]\n",
    "\n",
    "cost_grad_W = tf.SparseTensor(indices=grad_indices, values=tf.reshape(dCost_dW, [-1]), shape=W_shape)\n",
    "cost_grad_W_prime = tf.SparseTensor(indices=grad_indices, values=tf.reshape(dCost_dW_prime, [-1]), shape=W_shape)\n",
    "cost_grad_b = tf.SparseTensor(indices=grad_indices, values=tf.reshape(dCost_db, [-1]), shape=b_shape)\n",
    "cost_grad_b_prime = tf.SparseTensor(indices=grad_indices, values=tf.reshape(dCost_db_prime, [-1]), shape=b_prime_shape)\n",
    "cost_grad_V = tf.SparseTensor(indices=grad_indices, values=tf.reshape(dCost_dV, [-1]), shape=V_shape)\n",
    "\n",
    "\n",
    "                                     \n",
    "cost_gradient_apply_W = optimizer.apply_gradients([[tf.sparse_tensor_to_dense(cost_grad_W), weight['W']]])\n",
    "cost_gradient_apply_W_prime = optimizer.apply_gradients([[tf.sparse_tensor_to_dense(cost_grad_W_prime), weight['W_prime']]])\n",
    "cost_gradient_apply_b = optimizer.apply_gradients([[tf.sparse_tensor_to_dense(cost_grad_b), weight['b']]])\n",
    "cost_gradient_apply_b_prime = optimizer.apply_gradients([[tf.sparse_tensor_to_dense(cost_grad_b_prime), weight['b_prime']]])\n",
    "cost_gradient_apply_V = optimizer.apply_gradients([[tf.sparse_tensor_to_dense(cost_grad_V), weight['V']]])\n",
    "init_op = tf.initialize_all_variables()"
   ]
  },
  {
   "cell_type": "code",
   "execution_count": 4,
   "metadata": {
    "collapsed": false
   },
   "outputs": [],
   "source": [
    "# METHOD 1 - NOT MEM\n",
    "transfer_fn = tf.sigmoid                                                   \n",
    "output_fn = tf.identity                                                        \n",
    "n_hidden = 50                                                                    \n",
    "\n",
    "# AdaGrad Parameters                                                                                                                   \n",
    "ada_beta = 1.0                                                                   \n",
    "ada_learning_rate = 0.01                                       \n",
    "optimizer = tf.train.AdagradOptimizer(ada_learning_rate, ada_beta)                                                                    \n",
    "#optimizer = tf.train.GradientDescentOptimizer(ada_learning_rate)                                                                       \n",
    "\n",
    "# Regularization Parameter                                                                                                             \n",
    "reg_lambda = 1.0                                                             \n",
    "prime_selected_indices = tf.placeholder(tf.int32, [None])\n",
    "W_selected_indices = tf.placeholder(tf.int32, [None])\n",
    "W_prime_indices = tf.placeholder(tf.int32, [None, None])\n",
    "b_prime_indices = tf.placeholder(tf.int32, [None, None])\n",
    "W_indices = tf.placeholder(tf.int32, [None, None])\n",
    "user_indices = tf.placeholder(tf.int32, [None, None])\n",
    "\n",
    "y = tf.placeholder(tf.float32, [None, model.n_items]) \n",
    "\n",
    "\n",
    "z = transfer_fn(tf.add_n([tf.matmul(y, weight['W']),                                                         \n",
    "                                          tf.reshape(weight['V_index'], [1, n_hidden]),                                              \n",
    "                                          weight['b']]                                                 \n",
    "                                        ))                                         \n",
    "y_hat = output_fn(tf.add(tf.matmul(z, tf.transpose(weight['W_prime'])),                                    \n",
    "                                        weight['b_prime'])                                         \n",
    "                                )\n",
    "\n",
    "loss = tf.nn.l2_loss(tf.sub(y, y_hat))\n",
    "\n",
    "\n",
    "# _train = optimizer.minimize(loss)\n",
    "dLoss_d = optimizer.compute_gradients(loss, var_list=[weight['W_prime'], weight['b_prime'], weight['W'], weight['V'], weight['b']])                                    \n",
    "\n",
    "W_prime_grads = tf.gather(dLoss_d[0][0], prime_selected_indices) + reg_lambda * tf.gather(weight['W_prime'], prime_selected_indices)\n",
    "b_prime_grads = tf.gather(tf.transpose(dLoss_d[1][0]), prime_selected_indices) + reg_lambda * tf.gather(tf.transpose(weight['b_prime']), prime_selected_indices)\n",
    "W_grads = tf.gather(dLoss_d[2][0], W_selected_indices) + reg_lambda * tf.gather(weight['W'], W_selected_indices)\n",
    "V_grads = tf.gather(dLoss_d[3][0], user_u) + reg_lambda * tf.gather(weight['V'], user_u)\n",
    "b_grads = dLoss_d[4][0] + reg_lambda * weight['b']\n",
    "\n",
    "\n",
    "W_prime_values = tf.reshape(W_prime_grads, [-1])\n",
    "b_prime_values = tf.reshape(b_prime_grads, [-1])\n",
    "W_prime_grads = tf.sparse_to_dense(sparse_indices=W_prime_indices, output_shape=[model.n_items, n_hidden], sparse_values=W_prime_values)\n",
    "b_prime_grads = tf.sparse_to_dense(sparse_indices=b_prime_indices, output_shape=[1, model.n_items], sparse_values=b_prime_values)\n",
    "\n",
    "W_values = tf.reshape(W_grads, [-1])\n",
    "W_grads = tf.sparse_to_dense(sparse_indices=W_indices, output_shape=[model.n_items, n_hidden], sparse_values=W_values)\n",
    "\n",
    "V_values = tf.reshape(V_grads, [-1])\n",
    "V_grads = tf.sparse_to_dense(sparse_indices=user_indices, output_shape=[model.n_users, n_hidden], sparse_values=V_values)\n",
    "                       \n",
    "\n",
    "_train = optimizer.apply_gradients([[W_prime_grads, weight['W_prime']],\n",
    "                           [b_prime_grads, weight['b_prime']],\n",
    "                           [W_grads, weight['W']],\n",
    "                           [V_grads, weight['V']],\n",
    "                           [b_grads, weight['b']]])\n",
    "\n",
    "va\n",
    "\n",
    "#self.dLoss_d = lambda u, var: optimizer.compute_gradients(self.loss(u), var_list=[var])[0][0\n",
    "\n",
    "init_op = tf.initialize_all_variables()"
   ]
  },
  {
   "cell_type": "code",
   "execution_count": 5,
   "metadata": {
    "collapsed": true
   },
   "outputs": [],
   "source": [
    "# 1st iteration\n",
    "sess = tf.Session()\n",
    "sess.run(init_op)\n",
    "\n",
    "input_data = model.input_data.get_data()\n",
    "\n",
    "val_data = input_data[0].get_full_data()\n",
    "train_data = input_data[0].get_train_data()\n"
   ]
  },
  {
   "cell_type": "code",
   "execution_count": 6,
   "metadata": {
    "collapsed": false
   },
   "outputs": [],
   "source": [
    "y_tilde = sess.run(tf.nn.dropout(tf.constant(train_data, dtype=tf.float32, shape=[1, model.n_items]), dropout_prob))"
   ]
  },
  {
   "cell_type": "code",
   "execution_count": 22,
   "metadata": {
    "collapsed": false
   },
   "outputs": [
    {
     "data": {
      "text/plain": [
       "[2317,\n",
       " 3171,\n",
       " 3404,\n",
       " 3770,\n",
       " 5114,\n",
       " 5325,\n",
       " 6103,\n",
       " 7106,\n",
       " 11226,\n",
       " 11650,\n",
       " 12802,\n",
       " 13172,\n",
       " 14851,\n",
       " 15026,\n",
       " 15833]"
      ]
     },
     "execution_count": 22,
     "metadata": {},
     "output_type": "execute_result"
    }
   ],
   "source": [
    "list(np.where(y_tilde > 0)[1])"
   ]
  },
  {
   "cell_type": "code",
   "execution_count": 12,
   "metadata": {
    "collapsed": false
   },
   "outputs": [],
   "source": [
    "import numpy as np\n",
    "augmented_O_set = list(model._create_augmented_O_set(np.array(val_data)))\n",
    "indices = [[i, j] for i in augmented_O_set for j in xrange(n_hidden)]"
   ]
  },
  {
   "cell_type": "code",
   "execution_count": 18,
   "metadata": {
    "collapsed": false
   },
   "outputs": [
    {
     "name": "stdout",
     "output_type": "stream",
     "text": [
      "[8, 11, 51, 70, 148, 186, 238, 253, 330, 337, 377, 420, 472, 484, 505, 519, 558, 706, 712, 773, 819, 839, 865, 879, 882, 1046, 1194, 1207, 1242, 1304, 1306, 1440, 1463, 1477, 1484, 1501, 1534, 1590, 1631, 1644, 1652, 1696, 1730, 1759, 1781, 1926, 1950, 2058, 2101, 2265, 2275, 2308, 2317, 2318, 2349, 2475, 2481, 2526, 2548, 2661, 2668, 2693, 2806, 2846, 2851, 2866, 2891, 2910, 2931, 3030, 3058, 3114, 3171, 3209, 3248, 3292, 3297, 3332, 3350, 3404, 3430, 3521, 3591, 3595, 3672, 3765, 3770, 3792, 3814, 3833, 3866, 3870, 3895, 3937, 3950, 3998, 4033, 4055, 4060, 4117, 4143, 4150, 4156, 4235, 4242, 4290, 4324, 4421, 4425, 4436, 4453, 4569, 4582, 4626, 4662, 4688, 4768, 4774, 4795, 4799, 4802, 4821, 4853, 4871, 4889, 4915, 4924, 4926, 4950, 5028, 5060, 5114, 5153, 5164, 5248, 5293, 5324, 5325, 5356, 5387, 5428, 5559, 5561, 5569, 5579, 5580, 5614, 5625, 5685, 5762, 5816, 5845, 5848, 5928, 5948, 5991, 5995, 6103, 6179, 6181, 6264, 6312, 6324, 6333, 6338, 6442, 6482, 6508, 6513, 6529, 6577, 6626, 6651, 6683, 6735, 6785, 6825, 6827, 6874, 6879, 6893, 6914, 6921, 6968, 6970, 7106, 7172, 7209, 7365, 7406, 7525, 7567, 7588, 7626, 7687, 7723, 7759, 7801, 7804, 7851, 7866, 7867, 7883, 7953, 8054, 8222, 8228, 8250, 8252, 8329, 8453, 8468, 8606, 8610, 8612, 8626, 8655, 8693, 8726, 8812, 8853, 8875, 8879, 8903, 8983, 9005, 9010, 9058, 9084, 9155, 9167, 9218, 9225, 9256, 9270, 9271, 9448, 9483, 9541, 9668, 9699, 9784, 9825, 9859, 9907, 9990, 10008, 10122, 10129, 10140, 10184, 10204, 10259, 10272, 10288, 10345, 10395, 10407, 10467, 10508, 10521, 10586, 10588, 10836, 10910, 10919, 10929, 10938, 10965, 11009, 11101, 11105, 11167, 11168, 11170, 11226, 11320, 11468, 11493, 11532, 11596, 11603, 11622, 11650, 11673, 11712, 11756, 11780, 11793, 11853, 11870, 11909, 11918, 11919, 12006, 12055, 12082, 12127, 12153, 12163, 12164, 12248, 12267, 12297, 12482, 12487, 12507, 12515, 12552, 12564, 12606, 12684, 12697, 12710, 12716, 12753, 12802, 12803, 12804, 12805, 12831, 12843, 12916, 12946, 12998, 13080, 13135, 13167, 13172, 13187, 13237, 13239, 13264, 13290, 13320, 13363, 13415, 13571, 13602, 13662, 13679, 13696, 13821, 13880, 13923, 13924, 13934, 14065, 14101, 14194, 14227, 14313, 14349, 14385, 14446, 14515, 14519, 14606, 14662, 14676, 14777, 14817, 14851, 14942, 15000, 15012, 15026, 15030, 15121, 15162, 15165, 15171, 15191, 15281, 15282, 15300, 15314, 15336, 15504, 15513, 15550, 15776, 15819, 15833, 15843, 15850, 15868, 15894, 15913, 15962, 15976, 16002, 16044, 16051, 16136, 16163, 16180, 16363, 16386, 16424, 16436, 16437, 16477, 16540, 16608, 16619, 16769, 16871, 16895, 16931, 16940, 16941, 16958, 16969]\n"
     ]
    }
   ],
   "source": [
    "print sorted(augmented_O_set)"
   ]
  },
  {
   "cell_type": "code",
   "execution_count": 7,
   "metadata": {
    "collapsed": true
   },
   "outputs": [],
   "source": [
    "prime_i = [0, 2]\n",
    "W_prime_ind = [[i, j] for i in prime_i for j in xrange(n_hidden)]\n",
    "b_prime_ind = [[0, 0], [0, 2]]\n",
    "\n",
    "W_i = [1]\n",
    "W_ind = [[i, j] for i in W_i for j in xrange(n_hidden)]\n",
    "\n",
    "user_ind = [[0, i] for i in xrange(n_hidden)]"
   ]
  },
  {
   "cell_type": "code",
   "execution_count": 8,
   "metadata": {
    "collapsed": false
   },
   "outputs": [],
   "source": [
    "prev_weights = sess.run([weight['W'], weight['W_prime'], weight['b'], weight['b_prime'], weight['V']])\n",
    "\n",
    "feed_dict={y: y_tilde, \n",
    "           user_u: 0, \n",
    "           prime_selected_indices: prime_i, \n",
    "           W_selected_indices: W_i, \n",
    "           W_prime_indices: W_prime_ind, \n",
    "           b_prime_indices: b_prime_ind, \n",
    "           W_indices: W_ind, \n",
    "           user_indices: user_ind}\n",
    "\n",
    "sess.run(_train, feed_dict=feed_dict)\n",
    "new_weights = sess.run([weight['W'], weight['W_prime'], weight['b'], weight['b_prime'], weight['V']])"
   ]
  },
  {
   "cell_type": "code",
   "execution_count": 9,
   "metadata": {
    "collapsed": false
   },
   "outputs": [
    {
     "name": "stdout",
     "output_type": "stream",
     "text": [
      "[[ 0.00033499 -0.01154972  0.00700667 ...,  0.0128306  -0.00399822\n",
      "  -0.00866284]\n",
      " [ 0.01240425 -0.00628829 -0.01546988 ..., -0.01429989  0.0005925\n",
      "   0.00754202]\n",
      " [ 0.01347434 -0.00643602  0.00626049 ..., -0.01472834  0.00265642\n",
      "   0.0075183 ]\n",
      " ..., \n",
      " [-0.00912714 -0.00035521  0.01465059 ..., -0.00507344 -0.00254842\n",
      "   0.01498318]\n",
      " [-0.01274363 -0.01094532  0.01345679 ...,  0.01099324 -0.01446358\n",
      "  -0.01169087]\n",
      " [ 0.00347038 -0.01392484 -0.00631091 ..., -0.01362248 -0.00043209\n",
      "   0.00508399]]\n",
      "\n",
      "\n",
      "[[ 0.00033499 -0.01154972  0.00700667 ...,  0.0128306  -0.00399822\n",
      "  -0.00866284]\n",
      " [ 0.01228022 -0.00622541 -0.0153152  ..., -0.0141569   0.00058658\n",
      "   0.0074666 ]\n",
      " [ 0.01347434 -0.00643602  0.00626049 ..., -0.01472834  0.00265642\n",
      "   0.0075183 ]\n",
      " ..., \n",
      " [-0.00912714 -0.00035521  0.01465059 ..., -0.00507344 -0.00254842\n",
      "   0.01498318]\n",
      " [-0.01274363 -0.01094532  0.01345679 ...,  0.01099324 -0.01446358\n",
      "  -0.01169087]\n",
      " [ 0.00347038 -0.01392484 -0.00631091 ..., -0.01362248 -0.00043209\n",
      "   0.00508399]]\n"
     ]
    }
   ],
   "source": [
    "print prev_weights[0]\n",
    "print ''\n",
    "print ''\n",
    "print new_weights[0]"
   ]
  },
  {
   "cell_type": "code",
   "execution_count": 32,
   "metadata": {
    "collapsed": false
   },
   "outputs": [
    {
     "data": {
      "text/plain": [
       "<tf.Tensor 'mul_11:0' shape=(1, 50) dtype=float32>"
      ]
     },
     "execution_count": 32,
     "metadata": {},
     "output_type": "execute_result"
    }
   ],
   "source": [
    "(reg_lambda *weight['b'])"
   ]
  },
  {
   "cell_type": "code",
   "execution_count": 28,
   "metadata": {
    "collapsed": false
   },
   "outputs": [
    {
     "data": {
      "text/plain": [
       "TensorShape([Dimension(1), Dimension(50)])"
      ]
     },
     "execution_count": 28,
     "metadata": {},
     "output_type": "execute_result"
    }
   ],
   "source": [
    "weight['b'].get_shape()"
   ]
  },
  {
   "cell_type": "code",
   "execution_count": null,
   "metadata": {
    "collapsed": true
   },
   "outputs": [],
   "source": []
  }
 ],
 "metadata": {
  "kernelspec": {
   "display_name": "Python 2",
   "language": "python",
   "name": "python2"
  },
  "language_info": {
   "codemirror_mode": {
    "name": "ipython",
    "version": 2
   },
   "file_extension": ".py",
   "mimetype": "text/x-python",
   "name": "python",
   "nbconvert_exporter": "python",
   "pygments_lexer": "ipython2",
   "version": "2.7.6"
  }
 },
 "nbformat": 4,
 "nbformat_minor": 1
}
